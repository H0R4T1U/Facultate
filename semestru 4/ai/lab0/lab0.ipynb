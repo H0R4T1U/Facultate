{
 "cells": [
  {
   "cell_type": "code",
   "execution_count": null,
   "metadata": {},
   "outputs": [
    {
     "name": "stdout",
     "output_type": "stream",
     "text": [
      "si\n"
     ]
    }
   ],
   "source": [
    "# Problema 1\n",
    "\n",
    "\"\"\"\n",
    "def ultimul_cuvant_alfabetic(text):\n",
    "    cuvinte = text.split()  # Separă textul în cuvinte\n",
    "    return max(cuvinte)  # Returnează cel mai mare lexicografic\n",
    "\n",
    "# Exemplu de utilizare\n",
    "text = \"Ana are mere rosii si galbene\"\n",
    "print(ultimul_cuvant_alfabetic(text))  # Output: \"si\"\n",
    "\"\"\"\n",
    "#O(n)\n",
    "txt = \"Ana are mere rosii si galbene\"\n",
    "print(max(txt.split(\" \")))\n"
   ]
  },
  {
   "cell_type": "code",
   "execution_count": null,
   "metadata": {},
   "outputs": [
    {
     "name": "stdout",
     "output_type": "stream",
     "text": [
      "5.0\n"
     ]
    }
   ],
   "source": [
    "# Problema 2\n",
    "from math import sqrt\n",
    "\"\"\"\n",
    "import math\n",
    "\n",
    "def euclidean_distance(p1, p2):\n",
    "    return math.sqrt((p2[0] - p1[0])**2 + (p2[1] - p1[1])**2)\n",
    "\n",
    "# Exemplu de utilizare\n",
    "p1 = (1, 5)\n",
    "p2 = (4, 1)\n",
    "print(euclidean_distance(p1, p2))  # Output: 5.0\n",
    "\"\"\"\n",
    "# O(1)\n",
    "dist1 = [1,5]\n",
    "dist2 = [4,1]\n",
    "print(sqrt((dist1[0]-dist2[0])**2 + (dist1[1]-dist2[1])**2))"
   ]
  },
  {
   "cell_type": "code",
   "execution_count": null,
   "metadata": {},
   "outputs": [
    {
     "name": "stdout",
     "output_type": "stream",
     "text": [
      "4\n"
     ]
    }
   ],
   "source": [
    "# Problema 3\n",
    "# ă se determine produsul scalar a doi vectori rari care conțin numere reale. \n",
    "# Un vector este rar atunci când conține multe elemente nule. Vectorii pot avea oricâte dimensiuni. \n",
    "# De ex. produsul scalar a 2 vectori unisimensionali [1,0,2,0,3] și [1,2,0,3,1] este 4.\n",
    "\"\"\"\n",
    "    v1 = [1, 0, 2, 0, 3]\n",
    "v2 = [1, 2, 0, 3, 1]\n",
    "\n",
    "# Aplicăm zip pentru a itera simultan peste elementele celor doi vectori\n",
    "# și folosim filter pentru a păstra doar perechile unde cel puțin un element este nenul\n",
    "produs_scalar = sum(x * y for x, y in zip(v1, v2) if x and y)\n",
    "\n",
    "print(produs_scalar)  # Output: 4\n",
    "\"\"\"\n",
    "#O(n) \n",
    "v1 = [1, 0, 2, 0, 3]\n",
    "v2 = [1, 2, 0, 3, 1]\n",
    "\n",
    "rar1 = {i: val for i, val in enumerate(v1) if val != 0}\n",
    "rar2 = {i: val for i, val in enumerate(v2) if val != 0}\n",
    "print(sum(rar1[i] * rar2[i] for i in rar1 if i in rar2))  \n",
    "\n"
   ]
  },
  {
   "cell_type": "code",
   "execution_count": null,
   "metadata": {},
   "outputs": [
    {
     "name": "stdout",
     "output_type": "stream",
     "text": [
      "['mere', 'rosii']\n"
     ]
    }
   ],
   "source": [
    "# Problema 4\n",
    "from collections import Counter\n",
    "\n",
    "\"\"\"\n",
    "    text = \"ana are ana are mere rosii ana\"\n",
    "cuvinte = text.split()\n",
    "\n",
    "# Selectăm doar cuvintele care apar o singură dată în listă\n",
    "rez = [cuvant for cuvant in cuvinte if cuvinte.count(cuvant) == 1]\n",
    "\n",
    "# Eliminăm duplicatele din rezultat folosind set și păstrând ordinea\n",
    "rezultat_final = list(dict.fromkeys(rez))\n",
    "\n",
    "print(rezultat_final)  # Output: ['mere', 'rosii']\n",
    "O(n^2), spatiu O(n)\n",
    "\"\"\"\n",
    "#O(n)\n",
    "text = \"ana are ana are mere rosii ana\"\n",
    "cuvinte = text.split()\n",
    "frecvente = Counter(cuvinte)\n",
    "rez =  [cuvant for cuvant, frecventa in frecvente.items() if frecventa == 1]\n",
    "\n",
    "print(rez)"
   ]
  },
  {
   "cell_type": "code",
   "execution_count": null,
   "metadata": {},
   "outputs": [
    {
     "name": "stdout",
     "output_type": "stream",
     "text": [
      "[2]\n"
     ]
    }
   ],
   "source": [
    "# Problema 5\n",
    "from collections import Counter\n",
    "\"\"\"\n",
    "lst = [1, 2, 3, 4, 2, 5]\n",
    "seen = set()\n",
    "rez = None\n",
    "\n",
    "for num in lst:\n",
    "    if num in seen:\n",
    "        rez = num\n",
    "        break\n",
    "    seen.add(num)\n",
    "\n",
    "print(rez)  # Output: 2\n",
    "O(n)\n",
    "\"\"\"\n",
    "#O(N)\n",
    "list = [1,2,3,4,2,5]\n",
    "frecvente = Counter(list)\n",
    "rez =  [nr for nr, frecventa in frecvente.items() if frecventa == 2]\n",
    "\n",
    "print(rez)"
   ]
  },
  {
   "cell_type": "code",
   "execution_count": null,
   "metadata": {},
   "outputs": [
    {
     "name": "stdout",
     "output_type": "stream",
     "text": [
      "[2]\n"
     ]
    }
   ],
   "source": [
    "# Problema 6\n",
    "from collections import Counter\n",
    "\"\"\"\n",
    "def gaseste_majoritar(nums):\n",
    "    candidat, count = None, 0\n",
    "\n",
    "    for num in nums:\n",
    "        if count == 0:\n",
    "            candidat = num\n",
    "        count += (1 if num == candidat else -1)\n",
    "\n",
    "    # Verificăm dacă acest candidat apare într-adevăr de mai mult de n/2 ori\n",
    "    if nums.count(candidat) > len(nums) // 2:\n",
    "        return candidat\n",
    "    return None\n",
    "\n",
    "sir = [2,8,7,2,2,5,2,3,1,2,2]\n",
    "rezultat = gaseste_majoritar(sir)\n",
    "print(rezultat)\n",
    "O(n) O(1) spatiu\n",
    "\"\"\"\n",
    "list = [2,8,7,2,2,5,2,3,1,2,2]\n",
    "length = len(list)\n",
    "frecvente = Counter(list)\n",
    "rez =  [nr for nr, frecventa in frecvente.items() if frecventa >= (length/2)]\n",
    "# O(n) O(N)\n",
    "print(rez)"
   ]
  },
  {
   "cell_type": "code",
   "execution_count": null,
   "metadata": {},
   "outputs": [
    {
     "name": "stdout",
     "output_type": "stream",
     "text": [
      "7\n"
     ]
    }
   ],
   "source": [
    "#Problema 7\n",
    "\"\"\"\n",
    "import heapq\n",
    "\n",
    "def k_cel_mai_mare(sir, k):\n",
    "    return heapq.nlargest(k, sir)[-1]\n",
    "\n",
    "sir = [7, 4, 6, 3, 9, 1]\n",
    "k = 2\n",
    "print(k_cel_mai_mare(sir, k))\n",
    "O(n log k)\n",
    "O(K) spatiu\n",
    "\"\"\"\n",
    "sir = [7, 4, 6, 3, 9, 1]\n",
    "k = 2\n",
    "# O(n log n), inplace\n",
    "sir.sort(reverse=True)\n",
    "print(sir[k-1])\n"
   ]
  },
  {
   "cell_type": "code",
   "execution_count": null,
   "metadata": {},
   "outputs": [
    {
     "name": "stdout",
     "output_type": "stream",
     "text": [
      "1\n",
      "10\n",
      "11\n",
      "100\n"
     ]
    }
   ],
   "source": [
    "# Problema 8\n",
    "\"\"\"\n",
    "    from collections import deque\n",
    "\n",
    "def genereaza_binar(n):\n",
    "    coada = deque([\"1\"])  # Inițiem cu primul număr binar\n",
    "    rezultat = []\n",
    "    \n",
    "    for _ in range(n):\n",
    "        numar = coada.popleft()\n",
    "        rezultat.append(numar)\n",
    "        coada.append(numar + \"0\")\n",
    "        coada.append(numar + \"1\")\n",
    "    \n",
    "    print(\" \".join(rezultat))\n",
    "\n",
    "n = 4\n",
    "genereaza_binar(n)\n",
    "O(N) timp/spatiu\n",
    "\"\"\"\n",
    "\n",
    "# \tO(n log n) O(1)\n",
    "n = 4\n",
    "for i in range(1, n + 1):\n",
    "    print(bin(i)[2:])  \n"
   ]
  },
  {
   "cell_type": "code",
   "execution_count": null,
   "metadata": {},
   "outputs": [],
   "source": []
  }
 ],
 "metadata": {
  "kernelspec": {
   "display_name": "Python 3",
   "language": "python",
   "name": "python3"
  },
  "language_info": {
   "codemirror_mode": {
    "name": "ipython",
    "version": 3
   },
   "file_extension": ".py",
   "mimetype": "text/x-python",
   "name": "python",
   "nbconvert_exporter": "python",
   "pygments_lexer": "ipython3",
   "version": "3.9.6"
  }
 },
 "nbformat": 4,
 "nbformat_minor": 2
}

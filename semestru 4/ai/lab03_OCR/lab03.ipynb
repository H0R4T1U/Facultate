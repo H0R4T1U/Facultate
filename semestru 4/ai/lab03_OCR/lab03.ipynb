{
 "cells": [
  {
   "cell_type": "code",
   "execution_count": null,
   "metadata": {},
   "outputs": [
    {
     "name": "stdout",
     "output_type": "stream",
     "text": [
      "Defaulting to user installation because normal site-packages is not writeable\n",
      "Collecting jellyfish\n",
      "  Downloading jellyfish-1.1.3-cp39-cp39-macosx_11_0_arm64.whl.metadata (2.6 kB)\n",
      "Downloading jellyfish-1.1.3-cp39-cp39-macosx_11_0_arm64.whl (311 kB)\n",
      "Installing collected packages: jellyfish\n",
      "Successfully installed jellyfish-1.1.3\n",
      "\n",
      "\u001b[1m[\u001b[0m\u001b[34;49mnotice\u001b[0m\u001b[1;39;49m]\u001b[0m\u001b[39;49m A new release of pip is available: \u001b[0m\u001b[31;49m24.2\u001b[0m\u001b[39;49m -> \u001b[0m\u001b[32;49m25.0.1\u001b[0m\n",
      "\u001b[1m[\u001b[0m\u001b[34;49mnotice\u001b[0m\u001b[1;39;49m]\u001b[0m\u001b[39;49m To update, run: \u001b[0m\u001b[32;49m/Library/Developer/CommandLineTools/usr/bin/python3 -m pip install --upgrade pip\u001b[0m\n",
      "Note: you may need to restart the kernel to use updated packages.\n"
     ]
    }
   ],
   "source": []
  },
  {
   "cell_type": "code",
   "execution_count": null,
   "metadata": {},
   "outputs": [],
   "source": [
    "from azure.cognitiveservices.vision.computervision import ComputerVisionClient\n",
    "from azure.cognitiveservices.vision.computervision.models import OperationStatusCodes\n",
    "from azure.cognitiveservices.vision.computervision.models import VisualFeatureTypes\n",
    "from azure.core.credentials import AzureKeyCredential\n",
    "from msrest.authentication import CognitiveServicesCredentials\n",
    "import cv2\n",
    "import pytesseract\n",
    "import numpy as np\n",
    "from jiwer import wer, cer\n",
    "from array import array\n",
    "from Levenshtein import distance as levenshtein_distance, hamming\n",
    "from dotenv import dotenv_values\n",
    "import time"
   ]
  },
  {
   "cell_type": "code",
   "execution_count": 14,
   "metadata": {},
   "outputs": [
    {
     "data": {
      "text/plain": [
       "'\\nEND - Authenticate\\n'"
      ]
     },
     "execution_count": 14,
     "metadata": {},
     "output_type": "execute_result"
    }
   ],
   "source": [
    "'''\n",
    "Authenticate\n",
    "Authenticates your credentials and creates a client.\n",
    "'''\n",
    "config = dotenv_values(\".env\")\n",
    "subscription_key = config[\"VISION_KEY\"]\n",
    "endpoint = config[\"VISION_ENDPOINT\"]\n",
    "computervision_client = ComputerVisionClient(endpoint, CognitiveServicesCredentials(subscription_key))\n",
    "'''\n",
    "END - Authenticate\n",
    "'''"
   ]
  },
  {
   "cell_type": "code",
   "execution_count": 15,
   "metadata": {},
   "outputs": [],
   "source": [
    "import cv2\n",
    "import numpy as np\n",
    "\n",
    "\n",
    "# get grayscale image\n",
    "def get_grayscale(image):\n",
    "    return cv2.cvtColor(image, cv2.COLOR_BGR2GRAY)\n",
    "\n",
    "# noise removal\n",
    "def remove_noise(image):\n",
    "    return cv2.medianBlur(image,5)\n",
    " \n",
    "#thresholding\n",
    "def thresholding(image):\n",
    "    return cv2.threshold(image, 0, 255, cv2.THRESH_BINARY + cv2.THRESH_OTSU)[1]\n"
   ]
  },
  {
   "cell_type": "code",
   "execution_count": 16,
   "metadata": {},
   "outputs": [],
   "source": [
    "image_path = \"test1.png\"\n",
    "image = cv2.imread(image_path)\n",
    "image_gray = cv2.imread(image_path,cv2.IMREAD_GRAYSCALE)\n",
    "image_thresh = thresholding(image_gray)\n"
   ]
  },
  {
   "cell_type": "code",
   "execution_count": null,
   "metadata": {},
   "outputs": [],
   "source": []
  },
  {
   "cell_type": "code",
   "execution_count": 27,
   "metadata": {},
   "outputs": [],
   "source": [
    "\n",
    "def ocr_tesseract(image):\n",
    "    return pytesseract.image_to_string(image, lang='eng')\n",
    "\n",
    "def ocr_azure(image_path):\n",
    "\n",
    "    with open(image_path, 'rb') as image_file:\n",
    "        read_response = computervision_client.read_in_stream(\n",
    "        image=image_file,\n",
    "        mode=\"Printed\",\n",
    "        raw=True\n",
    "        )\n",
    "\n",
    "        operation_id = read_response.headers['Operation-Location'].split('/')[-1]\n",
    "        while True:\n",
    "            read_result = computervision_client.get_read_result(operation_id)\n",
    "            if read_result.status not in ['notStarted', 'running']:\n",
    "                break\n",
    "            time.sleep(1)\n",
    "\n",
    "        result = []\n",
    "        if read_result.status == OperationStatusCodes.succeeded:\n",
    "            for text_result in read_result.analyze_result.read_results:\n",
    "                for line in text_result.lines:\n",
    "                    print(line.text)\n",
    "                    result.append(line.text)\n",
    "    \n",
    "    return \" \".join([line for line in result])\n",
    "\n",
    "def evaluate_recognition(ground_truth, recognized_text):\n",
    "    lev_dist = levenshtein_distance(ground_truth, recognized_text)\n",
    "    word_err = wer(ground_truth, recognized_text)\n",
    "    char_err = cer(ground_truth, recognized_text)\n",
    "\n",
    "    # Hamming distance (only valid for strings of the same length)\n",
    "    if len(ground_truth) == len(recognized_text):\n",
    "        hamming_dist = hamming(ground_truth, recognized_text)\n",
    "    else:\n",
    "        hamming_dist = None  # Hamming distance is undefined for different lengths\n",
    "\n",
    "\n",
    "\n",
    "    return {\n",
    "        \"Levenshtein Distance\": lev_dist,\n",
    "        \"Word Error Rate\": word_err,\n",
    "        \"Character Error Rate\": char_err,\n",
    "        \"Hamming Distance\": hamming_dist,\n",
    "    }\n"
   ]
  },
  {
   "cell_type": "code",
   "execution_count": 28,
   "metadata": {},
   "outputs": [
    {
     "name": "stdout",
     "output_type": "stream",
     "text": [
      "Tesseract OCR Result:\n",
      " \n",
      "Google Cloud\n",
      "Platform\n",
      "Azure OCR Result:\n",
      " Google Cloud Platform\n",
      "Tesseract Evaluation: {'Levenshtein Distance': 1, 'Word Error Rate': 1.0, 'Character Error Rate': 1.0, 'Hamming Distance': None}\n",
      "Azure Evaluation: {'Levenshtein Distance': 21, 'Word Error Rate': 0.0, 'Character Error Rate': 0.0, 'Hamming Distance': None}\n"
     ]
    }
   ],
   "source": [
    "\n",
    "\n",
    "\n",
    "\n",
    "ground_truth_text = [\"Google Cloud Platform\"]\n",
    "\n",
    "# OCR using Tesseract\n",
    "tesseract_result = ocr_tesseract(image_thresh)\n",
    "print(\"Tesseract OCR Result:\\n\", tesseract_result)\n",
    "\n",
    "# OCR using Azure (replace with your credentials)\n",
    "azure_result = ocr_azure(image_path)\n",
    "print(\"Azure OCR Result:\\n\", azure_result)\n",
    "\n",
    "# Evaluation\n",
    "print(\"Tesseract Evaluation:\", evaluate_recognition(ground_truth_text, tesseract_result))\n",
    "print(\"Azure Evaluation:\", evaluate_recognition(ground_truth_text, azure_result))\n"
   ]
  },
  {
   "cell_type": "code",
   "execution_count": null,
   "metadata": {},
   "outputs": [
    {
     "ename": "",
     "evalue": "",
     "output_type": "error",
     "traceback": [
      "\u001b[1;31mThe Kernel crashed while executing code in the current cell or a previous cell. \n",
      "\u001b[1;31mPlease review the code in the cell(s) to identify a possible cause of the failure. \n",
      "\u001b[1;31mClick <a href='https://aka.ms/vscodeJupyterKernelCrash'>here</a> for more info. \n",
      "\u001b[1;31mView Jupyter <a href='command:jupyter.viewOutput'>log</a> for further details."
     ]
    }
   ],
   "source": [
    "h, w,c = image.shape\n",
    "boxes = pytesseract.image_to_boxes(image_thresh)\n",
    "\n",
    "# Draw rectangles around detected text\n",
    "for b in boxes.splitlines():\n",
    "    b = b.split(' ')\n",
    "    x1, y1, x2, y2 = int(b[1]), int(b[2]), int(b[3]), int(b[4])\n",
    "\n",
    "    # Fix y-coordinates by subtracting from image height\n",
    "    y1, y2 = h - y1, h - y2\n",
    "\n",
    "    # Draw the bounding box\n",
    "    cv2.rectangle(image, (x1, y1), (x2, y2), (0, 255, 0), 2)\n",
    "\n",
    "# Display the image\n",
    "cv2.imshow('img', image)\n",
    "cv2.waitKey(0)\n",
    "cv2.destroyAllWindows()\n"
   ]
  },
  {
   "cell_type": "code",
   "execution_count": null,
   "metadata": {},
   "outputs": [],
   "source": [
    "# Perform OCR\n",
    "with open(image_path, 'rb') as image_file:\n",
    "        ocr_result = computervision_client.read_in_stream(\n",
    "        image=image_file,mode=\"Printed\",raw=True)\n",
    "\n",
    "        operation_location = ocr_result.headers[\"Operation-Location\"]\n",
    "        operation_id = operation_location.split(\"/\")[-1]\n",
    "\n",
    "\n",
    "        while True:\n",
    "            result = computervision_client.get_read_result(operation_id)\n",
    "            if result.status not in ['notStarted', 'running']:\n",
    "                break\n",
    "            time.sleep(1)\n",
    "\n",
    "        if result.status == OperationStatusCodes.succeeded:\n",
    "            read_results = result.analyze_result.read_results\n",
    "            h, w, c = image.shape\n",
    "            for read_result in read_results:\n",
    "                for line in read_result.lines:\n",
    "                    for word in line.words:\n",
    "                        bbox = word.bounding_box\n",
    "                        x1, y1 = int(bbox[0]), int(bbox[1])\n",
    "                        x2, y2 = int(bbox[4]), int(bbox[5])\n",
    "                        image_color = cv2.rectangle(image_color, (x1, y1), (x2, y2), (0, 255, 0), 2)\n",
    "\n",
    "        # Display the image\n",
    "        cv2.imshow('img', image_color)\n",
    "        cv2.waitKey(0)\n",
    "        cv2.destroyAllWindows()"
   ]
  }
 ],
 "metadata": {
  "kernelspec": {
   "display_name": "Python 3",
   "language": "python",
   "name": "python3"
  },
  "language_info": {
   "codemirror_mode": {
    "name": "ipython",
    "version": 3
   },
   "file_extension": ".py",
   "mimetype": "text/x-python",
   "name": "python",
   "nbconvert_exporter": "python",
   "pygments_lexer": "ipython3",
   "version": "3.9.6"
  }
 },
 "nbformat": 4,
 "nbformat_minor": 2
}
